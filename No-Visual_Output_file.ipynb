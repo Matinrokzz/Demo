{
 "cells": [
  {
   "cell_type": "code",
   "execution_count": 1,
   "metadata": {},
   "outputs": [],
   "source": [
    "import numpy as np\n",
    "import pandas as pd\n",
    "import lightgbm as lgb\n",
    "import warnings\n",
    "import time\n",
    "start_time = time.time()\n",
    "warnings.filterwarnings('ignore')\n",
    "\n",
    "# load datasets\n",
    "train = pd.read_csv(r'/Users/matin-s_mac/Documents/Professional/Sirius/Data Science/Learning/Demand_forecasting/Raw_data/train.csv', parse_dates=['date'], index_col=['date'])\n",
    "test = pd.read_csv(r'/Users/matin-s_mac/Documents/Professional/Sirius/Data Science/Learning/Demand_forecasting/Raw_data/test.csv', parse_dates=['date'], index_col=['date'])"
   ]
  },
  {
   "cell_type": "code",
   "execution_count": 2,
   "metadata": {},
   "outputs": [],
   "source": [
    "def sales_prediction():\n",
    "\n",
    "    # Expand dataframe with more useful columns\n",
    "    def expand_df(dataframe):\n",
    "        dataframe['day'] = dataframe.index.day\n",
    "        dataframe['month'] = dataframe.index.month\n",
    "        dataframe['year'] = dataframe.index.year\n",
    "        dataframe['dayofweek'] = dataframe.index.dayofweek\n",
    "        return dataframe\n",
    "\n",
    "    data = expand_df(train)\n",
    "\n",
    "    # Only data 2015 and after is used\n",
    "    new_data = data.loc[data.year >= 2015]\n",
    "    grand_avg = new_data.sales.mean()\n",
    "\n",
    "    # Day of week - Item Look up table\n",
    "    dow_item_table = pd.pivot_table(new_data, index='dayofweek', columns='item', values='sales', aggfunc=np.mean)\n",
    "\n",
    "    # Month pattern\n",
    "    month_table = pd.pivot_table(new_data, index='month', values='sales', aggfunc=np.mean) / grand_avg\n",
    "\n",
    "    # Store pattern\n",
    "    store_table = pd.pivot_table(new_data, index='store', values='sales', aggfunc=np.mean) / grand_avg\n",
    "\n",
    "    # weighted growth rate\n",
    "    year_table = pd.pivot_table(data, index='year', values='sales', aggfunc=np.mean) / grand_avg\n",
    "    years = np.arange(2013, 2019)\n",
    "    annual_growth = np.poly1d(np.polyfit(years[:-1], year_table.values.squeeze(), 2, w=np.exp((years - 2018) / 10)[:-1]))\n",
    "\n",
    "    pred_sales = []\n",
    "    for _, row in test.iterrows():\n",
    "        dow, month, year = row.name.dayofweek, row.name.month, row.name.year\n",
    "        item, store = row['item'], row['store']\n",
    "        base_sales = dow_item_table.at[dow, item]\n",
    "        mul = month_table.at[month, 'sales'] * store_table.at[store, 'sales']\n",
    "        pred_sales.append(int(np.round(base_sales * mul * annual_growth(year), 0)))\n",
    "\n",
    "    return pred_sales\n",
    "\n",
    "\n",
    "# extending train dataset with test dataset by sale prediction for 2018\n",
    "test['sales'] = sales_prediction()\n",
    "train = train.loc[train.index.year >= 2015, :] # use only data after 2015\n",
    "df = pd.concat([train, test], sort=False)\n",
    "df.reset_index(inplace=True)"
   ]
  },
  {
   "cell_type": "code",
   "execution_count": 3,
   "metadata": {},
   "outputs": [],
   "source": [
    "# create feature from datetime columns\n",
    "def create_date_features(dataframe):\n",
    "    dataframe['month'] = dataframe.date.dt.month\n",
    "    dataframe['day_of_month'] = dataframe.date.dt.day\n",
    "    dataframe['day_of_year'] = dataframe.date.dt.dayofyear\n",
    "    dataframe['week_of_year'] = dataframe.date.dt.weekofyear\n",
    "    dataframe['day_of_week'] = dataframe.date.dt.dayofweek + 1\n",
    "    dataframe['year'] = dataframe.date.dt.year\n",
    "    dataframe['is_wknd'] = dataframe.date.dt.weekday // 4\n",
    "    dataframe['is_month_start'] = dataframe.date.dt.is_month_start.astype(int)\n",
    "    dataframe['is_month_end'] = dataframe.date.dt.is_month_end.astype(int)\n",
    "    dataframe['quarter'] = dataframe.date.dt.quarter\n",
    "    dataframe['week_block_num'] = [int(x) for x in np.floor((dataframe.date - pd.to_datetime('2012-12-31')).dt.days / 7) + 1]\n",
    "    dataframe['quarter_block_num'] = (dataframe['year'] - 2013) * 4 + dataframe['quarter']\n",
    "    dataframe['week_of_month'] = dataframe['week_of_year'].values // 4.35\n",
    "    return dataframe\n",
    "                                                                                                                             \n",
    "                                                                                                                                              \n",
    "df = create_date_features(df)                                                                                                                 \n",
    "                                                                                                                                              \n",
    "# day labeling features                                                                       \n",
    "df['is_Mon'] = np.where(df['day_of_week'] == 1, 1, 0)                                                                                            \n",
    "df['is_Tue'] = np.where(df['day_of_week'] == 2, 1, 0)                                                                                         \n",
    "df['is_Wed'] = np.where(df['day_of_week'] == 3, 1, 0)                                                                                         \n",
    "df['is_Thu'] = np.where(df['day_of_week'] == 4, 1, 0)                                                                                         \n",
    "df['is_Fri'] = np.where(df['day_of_week'] == 5, 1, 0)                                                                                         \n",
    "df['is_Sat'] = np.where(df['day_of_week'] == 6, 1, 0)                                                                                         \n",
    "df['is_Sun'] = np.where(df['day_of_week'] == 7, 1, 0)    "
   ]
  },
  {
   "cell_type": "code",
   "execution_count": 4,
   "metadata": {},
   "outputs": [],
   "source": [
    "# generating some new features from aggregation of sales within different time frames\n",
    "feat_list = ['day_of_week', 'week_of_month', 'week_of_year', 'month', 'quarter', 'is_wknd'] + ['day_of_week', 'week_of_month']\n",
    "shift_values = [0, 0, 0, 0, 0, 0, 12, 12]\n",
    "for time_item, shift_val in zip(feat_list, shift_values):\n",
    "    grouped_df = df.groupby(['store', 'item', time_item])['sales'].expanding().mean().shift(shift_val).bfill().reset_index()\n",
    "    grouped_df.columns = ['store', 'item', time_item, 'date', time_item + f'_ex_avg_sale{str(shift_val)}']\n",
    "    grouped_df = grouped_df.sort_values(by=['item', 'store', 'date'])\n",
    "    df[time_item + f'_ex_avg_sale{str(shift_val)}'] = grouped_df[time_item + f'_ex_avg_sale{str(shift_val)}'].values"
   ]
  },
  {
   "cell_type": "code",
   "execution_count": 5,
   "metadata": {},
   "outputs": [],
   "source": [
    "# make sure dataset sorted with original order                                                  \n",
    "df.sort_values(by=['item', 'store', 'date'], axis=0, inplace=True) \n",
    "\n",
    "\n",
    "#generating some noise                                                                   \n",
    "def random_noise(dataframe):                                                                                                                  \n",
    "    return np.random.normal(scale=0.01, size=(len(dataframe),))    \n",
    "\n",
    "\n",
    "# Lag/Shifted Features                                                                                                                                                      \n",
    "# generating laggy features with different time windows                                                                                                                                 \n",
    "def lag_features(dataframe, lags):                                                                                                            \n",
    "    dataframe = dataframe.copy()                                                                                                              \n",
    "    for lag in lags:                                                                                                                          \n",
    "        dataframe['sales_lag_' + str(lag)] = dataframe.groupby([\"item\", \"store\"])['sales'].transform(lambda x: x.shift(lag)) + random_noise(dataframe)                                                                                 \n",
    "    return dataframe                                                                                                                          \n",
    "                                                                                                                                              \n",
    "                                                                                                                                              \n",
    "df = lag_features(df, [91, 98, 105, 112, 119, 126, 182, 364, 546, 728])                                                                       \n",
    "                                                                                                                                 \n",
    "\n",
    "    \n",
    "# Rolling Mean Features                                                                                                                       \n",
    "def roll_mean_features(dataframe, windows):                                                                                                   \n",
    "    dataframe = dataframe.copy()                                                                                                              \n",
    "    for window in windows:                                                                                                                    \n",
    "        dataframe['sales_roll_mean_' + str(window)] = dataframe.groupby([\"item\", \"store\"])['sales'].\\\n",
    "        transform(lambda x: x.shift(1).rolling(window=window, min_periods=10, win_type=\"triang\").mean()) + random_noise(dataframe)            \n",
    "    return dataframe                                                                                                                          \n",
    "                                                                                                                                              \n",
    "                                                          \n",
    "df = roll_mean_features(df, [91, 182, 365, 546, 730])                                                                                         \n",
    "                                                                                                                                              \n",
    "\n",
    "    \n",
    "# Exponentially Weighted Mean Features                                                                                                        \n",
    "def ewm_features(dataframe, alphas, lags):                                                                                                    \n",
    "    dataframe = dataframe.copy()                                                                                                              \n",
    "    for alpha in alphas:                                                                                                                      \n",
    "        for lag in lags:                                                                                                                      \n",
    "            dataframe['sales_ewm_alpha_' + str(alpha).replace(\".\", \"\") + \"_lag_\" + str(lag)] = \\\n",
    "            dataframe.groupby([\"item\", \"store\"])['sales'].transform(lambda x: x.shift(lag).ewm(alpha=alpha).mean())                       \n",
    "    return dataframe                                                                                                                          \n",
    "                                                                                                                                              \n",
    "                                                                                                                                              \n",
    "alphas = [0.95, 0.9, 0.8, 0.7, 0.5]                                             \n",
    "lags = [91, 98, 105, 112, 180, 270, 365, 546, 728]\n",
    "df = ewm_features(df, alphas, lags)"
   ]
  },
  {
   "cell_type": "code",
   "execution_count": 6,
   "metadata": {},
   "outputs": [
    {
     "name": "stdout",
     "output_type": "stream",
     "text": [
      "End of feature engineering and data preparation.\n",
      "It takes 82 sec.\n",
      "---=> final dataframe has 178 features <=---\n"
     ]
    }
   ],
   "source": [
    "# One-Hot Encoding                                                                                                                            \n",
    "df_dum = pd.get_dummies(df[['store', 'item', 'day_of_week', 'month', ]], columns=['store', 'item', 'day_of_week', 'month', ], dummy_na=True)  \n",
    "df = pd.concat([df, df_dum], axis=1)                                                                                                          \n",
    "\n",
    "# convert to logarithmic scale                                                                                                           \n",
    "df['sales'] = np.log1p(df[\"sales\"].values)\n",
    "\n",
    "print(f'End of feature engineering and data preparation.') \n",
    "print(f'It takes {int(time.time()-start_time)} sec.')\n",
    "print(f'---=> final dataframe has {df.shape[1]} features <=---') "
   ]
  },
  {
   "cell_type": "code",
   "execution_count": 7,
   "metadata": {},
   "outputs": [
    {
     "name": "stdout",
     "output_type": "stream",
     "text": [
      "Final model calculation starts..\n",
      "The model calculation is done in 1149 sec.\n"
     ]
    }
   ],
   "source": [
    "# MODEL VALIDATION\n",
    "start_time = time.time()\n",
    "print(\"Final model calculation starts..\")                                                                \n",
    "cols = [col for col in df.columns if col not in ['date', 'id', \"sales\", \"year\"]]                                                           \n",
    "\n",
    "train = df.loc[~df.sales.isna()]                                                                                                              \n",
    "X_train, Y_train = train[cols], train['sales']                                                                                                                         \n",
    "                                                                                                                                              \n",
    "test = df.loc[df.id.notnull()]                                                                                                                \n",
    "X_test = test[cols]                                                                                                                           \n",
    "                                                                                                                                              \n",
    "iteration = 15000\n",
    "                                                                                                       \n",
    "lgb_params = {                                                                                                                            \n",
    "        'nthread': -1,\n",
    "        'metric': 'mae',\n",
    "        'boosting_type': 'gbdt',    \n",
    "        'max_depth': 7,\n",
    "        'num_leaves': 28,   \n",
    "        'task': 'train',                                                                                                                      \n",
    "        'objective': 'regression_l1',                                                                                                         \n",
    "        'learning_rate': 0.05,                                                                                                                \n",
    "        'feature_fraction': 0.9,                                                                                                              \n",
    "        'bagging_fraction': 0.8,                                                                                                              \n",
    "        'bagging_freq': 5,                                                                                                                    \n",
    "        'lambda_l1': 0.06,                                                                                                                    \n",
    "        'lambda_l2': 0.05,                                                                                                                    \n",
    "        'verbose': -1,     }                                                                                                                           \n",
    "                                                                                                                                              \n",
    "# LightGBM dataset                                                                                                                        \n",
    "lgbtrain_all = lgb.Dataset(data=X_train, label=Y_train, feature_name=cols)                                                                \n",
    "final_model = lgb.train(lgb_params, lgbtrain_all, num_boost_round=iteration)                                                              \n",
    "test_preds = final_model.predict(X_test, num_iteration=iteration)\n",
    "print(f'The model calculation is done in {int(time.time()-start_time)} sec.')   "
   ]
  },
  {
   "cell_type": "code",
   "execution_count": 8,
   "metadata": {},
   "outputs": [
    {
     "name": "stdout",
     "output_type": "stream",
     "text": [
      "OK, Submission file is created!\n"
     ]
    }
   ],
   "source": [
    "# create submission file\n",
    "submission = pd.DataFrame({ 'id': [*range(45000)], 'sales': np.round(np.expm1(test_preds),0) }) # turn back to normal scale\n",
    "submission['sales'] = submission.sales.astype(int)\n",
    "submission.to_csv('submission.csv', index=False)\n",
    "print(f'OK, Submission file is created!')"
   ]
  },
  {
   "cell_type": "code",
   "execution_count": null,
   "metadata": {},
   "outputs": [],
   "source": []
  }
 ],
 "metadata": {
  "kernelspec": {
   "display_name": "Python 3",
   "language": "python",
   "name": "python3"
  },
  "language_info": {
   "codemirror_mode": {
    "name": "ipython",
    "version": 3
   },
   "file_extension": ".py",
   "mimetype": "text/x-python",
   "name": "python",
   "nbconvert_exporter": "python",
   "pygments_lexer": "ipython3",
   "version": "3.7.6"
  }
 },
 "nbformat": 4,
 "nbformat_minor": 4
}
